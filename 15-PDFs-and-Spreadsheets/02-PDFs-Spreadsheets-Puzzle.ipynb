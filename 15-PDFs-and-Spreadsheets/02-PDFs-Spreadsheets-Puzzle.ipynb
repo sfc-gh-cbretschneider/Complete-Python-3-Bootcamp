{
 "cells": [
  {
   "cell_type": "markdown",
   "metadata": {},
   "source": [
    "___\n",
    "\n",
    "<a href='https://www.udemy.com/user/joseportilla/'><img src='../Pierian_Data_Logo.png'/></a>\n",
    "___\n",
    "<center><em>Content Copyright by Pierian Data</em></center>"
   ]
  },
  {
   "cell_type": "markdown",
   "metadata": {},
   "source": [
    "# PDFs and Spreadsheets Puzzle Exercise\n",
    "\n",
    "Let's test your skills, the files needed for this puzzle exercise\n",
    "\n",
    "You will need to work with two files for this exercise and solve the following tasks:\n",
    "\n",
    "* Task One: Use Python to extract the Google Drive link from the .csv file. (Hint: Its along the diagonal from top left to bottom right).\n",
    "* Task Two: Download the PDF from the Google Drive link (we already downloaded it for you just in case you can't download from Google Drive) and find the phone number that is in the document. Note: There are different ways of formatting a phone number!"
   ]
  },
  {
   "cell_type": "markdown",
   "metadata": {},
   "source": [
    "## Task One: Grab the Google Drive Link from .csv File"
   ]
  },
  {
   "cell_type": "code",
   "execution_count": 1,
   "metadata": {},
   "outputs": [],
   "source": [
    "import csv\n",
    "f = open('Exercise_Files/find_the_link.csv', 'r')\n",
    "data = csv.reader(f)\n",
    "ldata = list(data)"
   ]
  },
  {
   "cell_type": "code",
   "execution_count": 2,
   "metadata": {},
   "outputs": [
    {
     "name": "stdout",
     "output_type": "stream",
     "text": [
      "https://drive.google.com/open?id=1G6SEgg018UB4_4xsAJJ5TdzrhmXipr4Q\n"
     ]
    }
   ],
   "source": [
    "url = ''\n",
    "for i in range(0,len(ldata)):\n",
    "    url+=ldata[i][i]\n",
    "print(url)"
   ]
  },
  {
   "cell_type": "code",
   "execution_count": 14,
   "metadata": {},
   "outputs": [
    {
     "data": {
      "text/plain": [
       "'https://drive.google.com/open?id=1G6SEgg018UB4_4xsAJJ5TdzrhmXipr4Q'"
      ]
     },
     "execution_count": 14,
     "metadata": {},
     "output_type": "execute_result"
    }
   ],
   "source": [
    "# THe correct result is shown below, if you can't download from Google Drive, \n",
    "# we added the PDF file to the Exercise_Files folder already"
   ]
  },
  {
   "cell_type": "markdown",
   "metadata": {},
   "source": [
    "## Task Two: Download the PDF from the Google Drive link and find the phone number that is in the document. "
   ]
  },
  {
   "cell_type": "code",
   "execution_count": 4,
   "metadata": {},
   "outputs": [],
   "source": [
    "import requests\n",
    "r = requests.get(url)"
   ]
  },
  {
   "cell_type": "code",
   "execution_count": 5,
   "metadata": {},
   "outputs": [],
   "source": [
    "import PyPDF2"
   ]
  },
  {
   "cell_type": "code",
   "execution_count": 13,
   "metadata": {},
   "outputs": [
    {
     "ename": "PdfReadError",
     "evalue": "PDF starts with '<!DOC', but '%PDF-' expected",
     "output_type": "error",
     "traceback": [
      "\u001b[0;31m---------------------------------------------------------------------------\u001b[0m",
      "\u001b[0;31mPdfReadError\u001b[0m                              Traceback (most recent call last)",
      "Input \u001b[0;32mIn [13]\u001b[0m, in \u001b[0;36m<cell line: 6>\u001b[0;34m()\u001b[0m\n\u001b[1;32m      4\u001b[0m w\u001b[38;5;241m.\u001b[39mclose()\n\u001b[1;32m      5\u001b[0m w \u001b[38;5;241m=\u001b[39m \u001b[38;5;28mopen\u001b[39m(\u001b[38;5;124m'\u001b[39m\u001b[38;5;124mdownload.pdf\u001b[39m\u001b[38;5;124m'\u001b[39m, \u001b[38;5;124m'\u001b[39m\u001b[38;5;124mrb\u001b[39m\u001b[38;5;124m'\u001b[39m)\n\u001b[0;32m----> 6\u001b[0m pdf \u001b[38;5;241m=\u001b[39m \u001b[43mPyPDF2\u001b[49m\u001b[38;5;241;43m.\u001b[39;49m\u001b[43mPdfFileReader\u001b[49m\u001b[43m(\u001b[49m\u001b[43mw\u001b[49m\u001b[43m)\u001b[49m\n\u001b[1;32m      7\u001b[0m w\u001b[38;5;241m.\u001b[39mclose()\n",
      "File \u001b[0;32m~/opt/anaconda3/envs/bootcamp/lib/python3.10/site-packages/PyPDF2/_reader.py:239\u001b[0m, in \u001b[0;36mPdfFileReader.__init__\u001b[0;34m(self, stream, strict, warndest, overwriteWarnings)\u001b[0m\n\u001b[1;32m    237\u001b[0m     \u001b[38;5;28;01mwith\u001b[39;00m \u001b[38;5;28mopen\u001b[39m(stream, \u001b[38;5;124m\"\u001b[39m\u001b[38;5;124mrb\u001b[39m\u001b[38;5;124m\"\u001b[39m) \u001b[38;5;28;01mas\u001b[39;00m fileobj:\n\u001b[1;32m    238\u001b[0m         stream \u001b[38;5;241m=\u001b[39m BytesIO(b_(fileobj\u001b[38;5;241m.\u001b[39mread()))\n\u001b[0;32m--> 239\u001b[0m \u001b[38;5;28;43mself\u001b[39;49m\u001b[38;5;241;43m.\u001b[39;49m\u001b[43mread\u001b[49m\u001b[43m(\u001b[49m\u001b[43mstream\u001b[49m\u001b[43m)\u001b[49m\n\u001b[1;32m    240\u001b[0m \u001b[38;5;28mself\u001b[39m\u001b[38;5;241m.\u001b[39mstream \u001b[38;5;241m=\u001b[39m stream\n\u001b[1;32m    242\u001b[0m \u001b[38;5;28mself\u001b[39m\u001b[38;5;241m.\u001b[39m_override_encryption \u001b[38;5;241m=\u001b[39m \u001b[38;5;28;01mFalse\u001b[39;00m\n",
      "File \u001b[0;32m~/opt/anaconda3/envs/bootcamp/lib/python3.10/site-packages/PyPDF2/_reader.py:918\u001b[0m, in \u001b[0;36mPdfFileReader.read\u001b[0;34m(self, stream)\u001b[0m\n\u001b[1;32m    916\u001b[0m     header_byte \u001b[38;5;241m=\u001b[39m stream\u001b[38;5;241m.\u001b[39mread(\u001b[38;5;241m5\u001b[39m)\n\u001b[1;32m    917\u001b[0m     \u001b[38;5;28;01mif\u001b[39;00m header_byte \u001b[38;5;241m!=\u001b[39m \u001b[38;5;124mb\u001b[39m\u001b[38;5;124m\"\u001b[39m\u001b[38;5;124m%\u001b[39m\u001b[38;5;124mPDF-\u001b[39m\u001b[38;5;124m\"\u001b[39m:\n\u001b[0;32m--> 918\u001b[0m         \u001b[38;5;28;01mraise\u001b[39;00m PdfReadError(\n\u001b[1;32m    919\u001b[0m             \u001b[38;5;124m\"\u001b[39m\u001b[38;5;124mPDF starts with \u001b[39m\u001b[38;5;124m'\u001b[39m\u001b[38;5;132;01m{}\u001b[39;00m\u001b[38;5;124m'\u001b[39m\u001b[38;5;124m, but \u001b[39m\u001b[38;5;124m'\u001b[39m\u001b[38;5;124m%\u001b[39m\u001b[38;5;124mPDF-\u001b[39m\u001b[38;5;124m'\u001b[39m\u001b[38;5;124m expected\u001b[39m\u001b[38;5;124m\"\u001b[39m\u001b[38;5;241m.\u001b[39mformat(\n\u001b[1;32m    920\u001b[0m                 header_byte\u001b[38;5;241m.\u001b[39mdecode(\u001b[38;5;124m\"\u001b[39m\u001b[38;5;124mutf8\u001b[39m\u001b[38;5;124m\"\u001b[39m)\n\u001b[1;32m    921\u001b[0m             )\n\u001b[1;32m    922\u001b[0m         )\n\u001b[1;32m    923\u001b[0m     stream\u001b[38;5;241m.\u001b[39mseek(\u001b[38;5;241m-\u001b[39m\u001b[38;5;241m1\u001b[39m, \u001b[38;5;241m2\u001b[39m)\n\u001b[1;32m    924\u001b[0m last1M \u001b[38;5;241m=\u001b[39m stream\u001b[38;5;241m.\u001b[39mtell() \u001b[38;5;241m-\u001b[39m \u001b[38;5;241m1024\u001b[39m \u001b[38;5;241m*\u001b[39m \u001b[38;5;241m1024\u001b[39m \u001b[38;5;241m+\u001b[39m \u001b[38;5;241m1\u001b[39m  \u001b[38;5;66;03m# offset of last MB of stream\u001b[39;00m\n",
      "\u001b[0;31mPdfReadError\u001b[0m: PDF starts with '<!DOC', but '%PDF-' expected"
     ]
    }
   ],
   "source": [
    "# pdf = PyPDF2.PdfFileReader(r.content)\n",
    "\n",
    "# w = open('download.pdf', 'wb')\n",
    "# w.write(r.content)\n",
    "# w.close()\n",
    "# w = open('download.pdf', 'rb')\n",
    "# pdf = PyPDF2.PdfFileReader(w)\n",
    "# w.close()"
   ]
  },
  {
   "cell_type": "code",
   "execution_count": 16,
   "metadata": {},
   "outputs": [],
   "source": [
    "import bs4"
   ]
  },
  {
   "cell_type": "code",
   "execution_count": 29,
   "metadata": {},
   "outputs": [],
   "source": [
    "soup = bs4.BeautifulSoup(r.text)"
   ]
  },
  {
   "cell_type": "code",
   "execution_count": 32,
   "metadata": {},
   "outputs": [
    {
     "data": {
      "text/plain": [
       "[<meta content=\"notranslate\" name=\"google\"/>,\n",
       " <meta content=\"IE=edge;\" http-equiv=\"X-UA-Compatible\"/>,\n",
       " <meta content=\"origin\" name=\"referrer\"/>,\n",
       " <meta content=\"Find_the_Phone_Number.pdf\" property=\"og:title\"/>,\n",
       " <meta content=\"article\" property=\"og:type\"/>,\n",
       " <meta content=\"Google Docs\" property=\"og:site_name\"/>,\n",
       " <meta content=\"https://drive.google.com/file/d/1G6SEgg018UB4_4xsAJJ5TdzrhmXipr4Q/view?usp=drive_open&amp;usp=embed_facebook\" property=\"og:url\"/>,\n",
       " <meta content=\"https://lh4.googleusercontent.com/Ifq2_7xVFM9LjeVquTe9dkt-5J7W6LABTeqpGQHn1UUGiOirodCzdHzFXfgZfHyBuDs=w1200-h630-p\" property=\"og:image\"/>,\n",
       " <meta content=\"1200\" property=\"og:image:width\"/>,\n",
       " <meta content=\"630\" property=\"og:image:height\"/>,\n",
       " <meta content=\"Find_the_Phone_Number.pdf\" itemprop=\"name\"/>,\n",
       " <meta content=\"https://ssl.gstatic.com/images/branding/product/1x/drive_2020q4_32dp.png\" itemprop=\"faviconUrl\"/>,\n",
       " <meta content=\"https://drive.google.com/file/d/1G6SEgg018UB4_4xsAJJ5TdzrhmXipr4Q/view?usp=drive_open&amp;usp=embed_googleplus\" itemprop=\"url\"/>,\n",
       " <meta content=\"https://drive.google.com/file/d/1G6SEgg018UB4_4xsAJJ5TdzrhmXipr4Q/preview?usp=embed_googleplus\" itemprop=\"embedURL\"/>]"
      ]
     },
     "execution_count": 32,
     "metadata": {},
     "output_type": "execute_result"
    }
   ],
   "source": [
    "soup.select('meta')"
   ]
  },
  {
   "cell_type": "code",
   "execution_count": null,
   "metadata": {},
   "outputs": [],
   "source": []
  },
  {
   "cell_type": "code",
   "execution_count": 1,
   "metadata": {},
   "outputs": [
    {
     "ename": "NameError",
     "evalue": "name 'PyPDF2' is not defined",
     "output_type": "error",
     "traceback": [
      "\u001b[0;31m---------------------------------------------------------------------------\u001b[0m",
      "\u001b[0;31mNameError\u001b[0m                                 Traceback (most recent call last)",
      "Input \u001b[0;32mIn [1]\u001b[0m, in \u001b[0;36m<cell line: 2>\u001b[0;34m()\u001b[0m\n\u001b[1;32m      1\u001b[0m lpages \u001b[38;5;241m=\u001b[39m []\n\u001b[1;32m      2\u001b[0m \u001b[38;5;28;01mwith\u001b[39;00m \u001b[38;5;28mopen\u001b[39m(\u001b[38;5;124m'\u001b[39m\u001b[38;5;124m./Exercise_Files/Find_the_Phone_Number.pdf\u001b[39m\u001b[38;5;124m'\u001b[39m, \u001b[38;5;124m'\u001b[39m\u001b[38;5;124mrb\u001b[39m\u001b[38;5;124m'\u001b[39m) \u001b[38;5;28;01mas\u001b[39;00m w:\n\u001b[0;32m----> 3\u001b[0m     pdf \u001b[38;5;241m=\u001b[39m \u001b[43mPyPDF2\u001b[49m\u001b[38;5;241m.\u001b[39mPdfFileReader(w)\n\u001b[1;32m      4\u001b[0m     \u001b[38;5;28;01mfor\u001b[39;00m pn \u001b[38;5;129;01min\u001b[39;00m \u001b[38;5;28mrange\u001b[39m(\u001b[38;5;241m0\u001b[39m,pdf\u001b[38;5;241m.\u001b[39mnumPages):\n\u001b[1;32m      5\u001b[0m         page \u001b[38;5;241m=\u001b[39m pdf\u001b[38;5;241m.\u001b[39mgetPage(pn)\n",
      "\u001b[0;31mNameError\u001b[0m: name 'PyPDF2' is not defined"
     ]
    }
   ],
   "source": [
    "lpages = []\n",
    "with open('./Exercise_Files/Find_the_Phone_Number.pdf', 'rb') as w:\n",
    "    pdf = PyPDF2.PdfFileReader(w)\n",
    "    for pn in range(0,pdf.numPages):\n",
    "        page = pdf.getPage(pn)\n",
    "        lpages.append(page.extractText())\n",
    "lpages    "
   ]
  },
  {
   "cell_type": "code",
   "execution_count": 43,
   "metadata": {},
   "outputs": [],
   "source": [
    "import re"
   ]
  },
  {
   "cell_type": "code",
   "execution_count": 58,
   "metadata": {},
   "outputs": [
    {
     "data": {
      "text/plain": [
       "['000', '000', '000', '505', '503', '4455']"
      ]
     },
     "execution_count": 58,
     "metadata": {},
     "output_type": "execute_result"
    }
   ],
   "source": [
    "# re.findall('\\d{3}[^\\d]\\d{3}[^\\d]\\d{4}', ' '.join(lpages))\n",
    "# re.findall('\\d+', ''.join(lpages))\n",
    "re.findall('\\d{3,}', re.sub('(\\r|\\n|\\s)+', '', ''.join(lpages)))"
   ]
  },
  {
   "cell_type": "code",
   "execution_count": null,
   "metadata": {},
   "outputs": [],
   "source": []
  },
  {
   "cell_type": "code",
   "execution_count": 1,
   "metadata": {
    "collapsed": true
   },
   "outputs": [],
   "source": [
    "# You should get this phone number\n",
    "# 505 503 4455"
   ]
  }
 ],
 "metadata": {
  "anaconda-cloud": {},
  "kernelspec": {
   "display_name": "bootcamp",
   "language": "python",
   "name": "bootcamp"
  },
  "language_info": {
   "codemirror_mode": {
    "name": "ipython",
    "version": 3
   },
   "file_extension": ".py",
   "mimetype": "text/x-python",
   "name": "python",
   "nbconvert_exporter": "python",
   "pygments_lexer": "ipython3",
   "version": "3.10.4"
  }
 },
 "nbformat": 4,
 "nbformat_minor": 2
}
